{
 "cells": [
  {
   "cell_type": "code",
   "execution_count": 103,
   "id": "36530ea9",
   "metadata": {},
   "outputs": [],
   "source": [
    "import pandas as pd\n",
    "import numpy as np"
   ]
  },
  {
   "cell_type": "code",
   "execution_count": 5,
   "id": "f84868c2",
   "metadata": {},
   "outputs": [],
   "source": [
    "school_data = \"schools_complete.csv\"\n",
    "student_data = \"students_complete.csv\""
   ]
  },
  {
   "cell_type": "code",
   "execution_count": 6,
   "id": "bd841380",
   "metadata": {},
   "outputs": [],
   "source": [
    "school_DF = pd.read_csv(school_data)\n",
    "student_DF = pd.read_csv(student_data)"
   ]
  },
  {
   "cell_type": "code",
   "execution_count": 7,
   "id": "2f4a9a81",
   "metadata": {
    "scrolled": true
   },
   "outputs": [
    {
     "data": {
      "text/html": [
       "<div>\n",
       "<style scoped>\n",
       "    .dataframe tbody tr th:only-of-type {\n",
       "        vertical-align: middle;\n",
       "    }\n",
       "\n",
       "    .dataframe tbody tr th {\n",
       "        vertical-align: top;\n",
       "    }\n",
       "\n",
       "    .dataframe thead th {\n",
       "        text-align: right;\n",
       "    }\n",
       "</style>\n",
       "<table border=\"1\" class=\"dataframe\">\n",
       "  <thead>\n",
       "    <tr style=\"text-align: right;\">\n",
       "      <th></th>\n",
       "      <th>Student ID</th>\n",
       "      <th>student_name</th>\n",
       "      <th>gender</th>\n",
       "      <th>grade</th>\n",
       "      <th>school_name</th>\n",
       "      <th>reading_score</th>\n",
       "      <th>math_score</th>\n",
       "      <th>School ID</th>\n",
       "      <th>type</th>\n",
       "      <th>size</th>\n",
       "      <th>budget</th>\n",
       "    </tr>\n",
       "  </thead>\n",
       "  <tbody>\n",
       "    <tr>\n",
       "      <th>0</th>\n",
       "      <td>0</td>\n",
       "      <td>Paul Bradley</td>\n",
       "      <td>M</td>\n",
       "      <td>9th</td>\n",
       "      <td>Huang High School</td>\n",
       "      <td>66</td>\n",
       "      <td>79</td>\n",
       "      <td>0</td>\n",
       "      <td>District</td>\n",
       "      <td>2917</td>\n",
       "      <td>1910635</td>\n",
       "    </tr>\n",
       "    <tr>\n",
       "      <th>1</th>\n",
       "      <td>1</td>\n",
       "      <td>Victor Smith</td>\n",
       "      <td>M</td>\n",
       "      <td>12th</td>\n",
       "      <td>Huang High School</td>\n",
       "      <td>94</td>\n",
       "      <td>61</td>\n",
       "      <td>0</td>\n",
       "      <td>District</td>\n",
       "      <td>2917</td>\n",
       "      <td>1910635</td>\n",
       "    </tr>\n",
       "    <tr>\n",
       "      <th>2</th>\n",
       "      <td>2</td>\n",
       "      <td>Kevin Rodriguez</td>\n",
       "      <td>M</td>\n",
       "      <td>12th</td>\n",
       "      <td>Huang High School</td>\n",
       "      <td>90</td>\n",
       "      <td>60</td>\n",
       "      <td>0</td>\n",
       "      <td>District</td>\n",
       "      <td>2917</td>\n",
       "      <td>1910635</td>\n",
       "    </tr>\n",
       "    <tr>\n",
       "      <th>3</th>\n",
       "      <td>3</td>\n",
       "      <td>Dr. Richard Scott</td>\n",
       "      <td>M</td>\n",
       "      <td>12th</td>\n",
       "      <td>Huang High School</td>\n",
       "      <td>67</td>\n",
       "      <td>58</td>\n",
       "      <td>0</td>\n",
       "      <td>District</td>\n",
       "      <td>2917</td>\n",
       "      <td>1910635</td>\n",
       "    </tr>\n",
       "    <tr>\n",
       "      <th>4</th>\n",
       "      <td>4</td>\n",
       "      <td>Bonnie Ray</td>\n",
       "      <td>F</td>\n",
       "      <td>9th</td>\n",
       "      <td>Huang High School</td>\n",
       "      <td>97</td>\n",
       "      <td>84</td>\n",
       "      <td>0</td>\n",
       "      <td>District</td>\n",
       "      <td>2917</td>\n",
       "      <td>1910635</td>\n",
       "    </tr>\n",
       "  </tbody>\n",
       "</table>\n",
       "</div>"
      ],
      "text/plain": [
       "   Student ID       student_name gender grade        school_name  \\\n",
       "0           0       Paul Bradley      M   9th  Huang High School   \n",
       "1           1       Victor Smith      M  12th  Huang High School   \n",
       "2           2    Kevin Rodriguez      M  12th  Huang High School   \n",
       "3           3  Dr. Richard Scott      M  12th  Huang High School   \n",
       "4           4         Bonnie Ray      F   9th  Huang High School   \n",
       "\n",
       "   reading_score  math_score  School ID      type  size   budget  \n",
       "0             66          79          0  District  2917  1910635  \n",
       "1             94          61          0  District  2917  1910635  \n",
       "2             90          60          0  District  2917  1910635  \n",
       "3             67          58          0  District  2917  1910635  \n",
       "4             97          84          0  District  2917  1910635  "
      ]
     },
     "execution_count": 7,
     "metadata": {},
     "output_type": "execute_result"
    }
   ],
   "source": [
    "school_data_DF = pd.merge(student_DF, school_DF, how=\"left\", on=[\"school_name\", \"school_name\"])\n",
    "school_data_DF.head()"
   ]
  },
  {
   "cell_type": "code",
   "execution_count": 61,
   "id": "9aa44ee5",
   "metadata": {},
   "outputs": [
    {
     "data": {
      "text/plain": [
       "15"
      ]
     },
     "execution_count": 61,
     "metadata": {},
     "output_type": "execute_result"
    }
   ],
   "source": [
    "#school_count \n",
    "total_school = school_DF[\"School ID\"].count()\n",
    "total_school"
   ]
  },
  {
   "cell_type": "code",
   "execution_count": 9,
   "id": "3bb47366",
   "metadata": {},
   "outputs": [
    {
     "data": {
      "text/plain": [
       "39170"
      ]
     },
     "execution_count": 9,
     "metadata": {},
     "output_type": "execute_result"
    }
   ],
   "source": [
    "#student count\n",
    "student_count = student_DF[\"Student ID\"].count()\n",
    "student_count"
   ]
  },
  {
   "cell_type": "code",
   "execution_count": 56,
   "id": "3b511937",
   "metadata": {},
   "outputs": [
    {
     "data": {
      "text/plain": [
       "24649428"
      ]
     },
     "execution_count": 56,
     "metadata": {},
     "output_type": "execute_result"
    }
   ],
   "source": [
    "#calculate total budget\n",
    "total_budget = school_DF[\"budget\"].sum()\n",
    "total_budget"
   ]
  },
  {
   "cell_type": "code",
   "execution_count": 11,
   "id": "af180425",
   "metadata": {},
   "outputs": [
    {
     "data": {
      "text/plain": [
       "78.98537145774827"
      ]
     },
     "execution_count": 11,
     "metadata": {},
     "output_type": "execute_result"
    }
   ],
   "source": [
    "#calculate the average (mean) math score\n",
    "average_math_score = student_DF [\"math_score\"].mean()\n",
    "average_math_score"
   ]
  },
  {
   "cell_type": "code",
   "execution_count": 12,
   "id": "dad3e76e",
   "metadata": {},
   "outputs": [
    {
     "data": {
      "text/plain": [
       "81.87784018381414"
      ]
     },
     "execution_count": 12,
     "metadata": {},
     "output_type": "execute_result"
    }
   ],
   "source": [
    "#calculte the average (mean) reading score\n",
    "average_reading_score = student_DF [\"reading_score\"].mean()\n",
    "average_reading_score"
   ]
  },
  {
   "cell_type": "code",
   "execution_count": 13,
   "id": "f630fcde",
   "metadata": {},
   "outputs": [
    {
     "data": {
      "text/plain": [
       "74.9808526933878"
      ]
     },
     "execution_count": 13,
     "metadata": {},
     "output_type": "execute_result"
    }
   ],
   "source": [
    "#percentage of students who passed math (scores greater than or equal to 70)\n",
    "passing_math_count = school_data_DF[(school_data_DF [\"math_score\"] >= 70)].count()[\"student_name\"]\n",
    "passing_math_percentage = passing_math_count / float(student_count)*100\n",
    "passing_math_percentage"
   ]
  },
  {
   "cell_type": "code",
   "execution_count": 14,
   "id": "161aec3d",
   "metadata": {},
   "outputs": [
    {
     "data": {
      "text/plain": [
       "85.80546336482001"
      ]
     },
     "execution_count": 14,
     "metadata": {},
     "output_type": "execute_result"
    }
   ],
   "source": [
    "#percentage of students who passed reading\n",
    "passing_reading_count = school_data_DF[(school_data_DF [\"reading_score\"] >=70)].count()[\"student_name\"]\n",
    "passing_reading_percentage = passing_reading_count / float(student_count)*100\n",
    "passing_reading_percentage"
   ]
  },
  {
   "cell_type": "code",
   "execution_count": 15,
   "id": "83bfe9ee",
   "metadata": {},
   "outputs": [
    {
     "data": {
      "text/plain": [
       "65.17232575950983"
      ]
     },
     "execution_count": 15,
     "metadata": {},
     "output_type": "execute_result"
    }
   ],
   "source": [
    "#percentage of students that passed math and reading\n",
    "passing_math_reading_count = school_data_DF[(school_data_DF[\"math_score\"]>=70) & (school_data_DF[\"reading_score\"]>=70)].count()[\"student_name\"]\n",
    "overall_passing_rate = passing_math_reading_count / float(student_count)*100\n",
    "overall_passing_rate"
   ]
  },
  {
   "cell_type": "code",
   "execution_count": 62,
   "id": "4665ca78",
   "metadata": {
    "scrolled": true
   },
   "outputs": [
    {
     "data": {
      "text/html": [
       "<style type=\"text/css\">\n",
       "</style>\n",
       "<table id=\"T_81ee6\">\n",
       "  <thead>\n",
       "    <tr>\n",
       "      <th class=\"blank level0\" >&nbsp;</th>\n",
       "      <th id=\"T_81ee6_level0_col0\" class=\"col_heading level0 col0\" >Total Schools</th>\n",
       "      <th id=\"T_81ee6_level0_col1\" class=\"col_heading level0 col1\" >Total Students</th>\n",
       "      <th id=\"T_81ee6_level0_col2\" class=\"col_heading level0 col2\" >Total Budget</th>\n",
       "      <th id=\"T_81ee6_level0_col3\" class=\"col_heading level0 col3\" >Average Math Score</th>\n",
       "      <th id=\"T_81ee6_level0_col4\" class=\"col_heading level0 col4\" >Average Reading Score</th>\n",
       "      <th id=\"T_81ee6_level0_col5\" class=\"col_heading level0 col5\" >Percent passing Math</th>\n",
       "      <th id=\"T_81ee6_level0_col6\" class=\"col_heading level0 col6\" >Percent Passing Reading</th>\n",
       "      <th id=\"T_81ee6_level0_col7\" class=\"col_heading level0 col7\" >Percent Overall Passing</th>\n",
       "    </tr>\n",
       "  </thead>\n",
       "  <tbody>\n",
       "    <tr>\n",
       "      <th id=\"T_81ee6_level0_row0\" class=\"row_heading level0 row0\" >0</th>\n",
       "      <td id=\"T_81ee6_row0_col0\" class=\"data row0 col0\" >15</td>\n",
       "      <td id=\"T_81ee6_row0_col1\" class=\"data row0 col1\" >39170</td>\n",
       "      <td id=\"T_81ee6_row0_col2\" class=\"data row0 col2\" >$24,649,428.00</td>\n",
       "      <td id=\"T_81ee6_row0_col3\" class=\"data row0 col3\" >79.0</td>\n",
       "      <td id=\"T_81ee6_row0_col4\" class=\"data row0 col4\" >81.9</td>\n",
       "      <td id=\"T_81ee6_row0_col5\" class=\"data row0 col5\" >7498.1%</td>\n",
       "      <td id=\"T_81ee6_row0_col6\" class=\"data row0 col6\" >85.8</td>\n",
       "      <td id=\"T_81ee6_row0_col7\" class=\"data row0 col7\" >6517.2%</td>\n",
       "    </tr>\n",
       "  </tbody>\n",
       "</table>\n"
      ],
      "text/plain": [
       "<pandas.io.formats.style.Styler at 0x1a647f901f0>"
      ]
     },
     "execution_count": 62,
     "metadata": {},
     "output_type": "execute_result"
    }
   ],
   "source": [
    "#create a high-level snapshot of the district's key metrics in a DataFrame\n",
    "district_summary = pd.DataFrame({\n",
    "    \"Total Schools\": [total_school],\n",
    "    \"Total Students\": [student_count],\n",
    "    \"Total Budget\": [total_budget],\n",
    "    \"Average Math Score\": [average_math_score],\n",
    "    \"Average Reading Score\": [average_reading_score],\n",
    "    \"Percent passing Math\": [passing_math_percentage],\n",
    "    \"Percent Passing Reading\": [passing_reading_percentage],\n",
    "    \"Percent Overall Passing\": [overall_passing_rate],\n",
    "})\n",
    "\n",
    "district_summary_DF= district_summary[[\"Total Schools\",\n",
    "                                     \"Total Students\",\n",
    "                                     \"Total Budget\",\n",
    "                                     \"Average Math Score\",\n",
    "                                      \"Average Reading Score\",\n",
    "                                      \"Percent passing Math\",\n",
    "                                      \"Percent Passing Reading\",\n",
    "                                      \"Percent Overall Passing\"]\n",
    "                                     ]\n",
    "#format cells\n",
    "\n",
    "district_summary.style.format({\"Total Budget\": \"${:,.2f}\",\n",
    "                              \"Average Math Score\": \"{:.1f}\",\n",
    "                              \"Average Reading Score\": \"{:.1f}\",\n",
    "                              \"Percent passing Math\": \"{:.1%}\",\n",
    "                              \"Percent Passing Reading\": \"{:.1f}\",\n",
    "                              \"Percent Overall Passing\": \"{:.1%}\" })\n",
    "    \n"
   ]
  },
  {
   "cell_type": "code",
   "execution_count": null,
   "id": "303fd7ee",
   "metadata": {},
   "outputs": [],
   "source": [
    "#SCHOOL SUMMARY"
   ]
  },
  {
   "cell_type": "code",
   "execution_count": 109,
   "id": "c44de40f",
   "metadata": {
    "scrolled": true
   },
   "outputs": [
    {
     "ename": "SyntaxError",
     "evalue": "invalid syntax (3512328056.py, line 2)",
     "output_type": "error",
     "traceback": [
      "\u001b[1;36m  File \u001b[1;32m\"C:\\Users\\User\\AppData\\Local\\Temp\\ipykernel_5620\\3512328056.py\"\u001b[1;36m, line \u001b[1;32m2\u001b[0m\n\u001b[1;33m    school_types = school_data str(['school_name'])['type']\u001b[0m\n\u001b[1;37m                               ^\u001b[0m\n\u001b[1;31mSyntaxError\u001b[0m\u001b[1;31m:\u001b[0m invalid syntax\n"
     ]
    }
   ],
   "source": [
    "#use the code provided to select the school type\n",
    "school_types = school_data str(['school_name'])['type']"
   ]
  },
  {
   "cell_type": "code",
   "execution_count": 89,
   "id": "84da6604",
   "metadata": {},
   "outputs": [],
   "source": [
    "# total students\n",
    "per_school_counts= student_DF[\"school_name\"].count()"
   ]
  },
  {
   "cell_type": "code",
   "execution_count": 82,
   "id": "16be7551",
   "metadata": {},
   "outputs": [],
   "source": [
    "#per capita spending\n",
    "per_school_budget = school_data_DF.groupby([\"school_name\"]).mean()[\"budget\"]\n",
    "per_school_capita = per_school_budget / per_school_counts"
   ]
  },
  {
   "cell_type": "code",
   "execution_count": 86,
   "id": "de0b97de",
   "metadata": {},
   "outputs": [],
   "source": [
    "#average test scores\n",
    "\n",
    "average_math = student_DF[\"math_score\"].mean()\n",
    "average_reading = student_DF['reading_score'].mean()\n"
   ]
  },
  {
   "cell_type": "code",
   "execution_count": 100,
   "id": "58c4a104",
   "metadata": {},
   "outputs": [
    {
     "ename": "NameError",
     "evalue": "name 'ninth_graders_scores' is not defined",
     "output_type": "error",
     "traceback": [
      "\u001b[1;31m---------------------------------------------------------------------------\u001b[0m",
      "\u001b[1;31mNameError\u001b[0m                                 Traceback (most recent call last)",
      "\u001b[1;32m~\\AppData\\Local\\Temp\\ipykernel_5620\\2191481349.py\u001b[0m in \u001b[0;36m<module>\u001b[1;34m\u001b[0m\n\u001b[0;32m      5\u001b[0m \u001b[0mtwelfth_graders\u001b[0m \u001b[1;33m=\u001b[0m \u001b[0mschool_data_DF\u001b[0m\u001b[1;33m[\u001b[0m\u001b[1;33m(\u001b[0m\u001b[0mschool_data_DF\u001b[0m\u001b[1;33m[\u001b[0m\u001b[1;34m\"grade\"\u001b[0m\u001b[1;33m]\u001b[0m \u001b[1;33m==\u001b[0m \u001b[1;34m\"12th\"\u001b[0m\u001b[1;33m)\u001b[0m\u001b[1;33m]\u001b[0m\u001b[1;33m.\u001b[0m\u001b[0mgroupby\u001b[0m\u001b[1;33m(\u001b[0m\u001b[1;34m'school_name'\u001b[0m\u001b[1;33m)\u001b[0m\u001b[1;33m[\u001b[0m\u001b[1;34m\"math_score\"\u001b[0m\u001b[1;33m]\u001b[0m\u001b[1;33m.\u001b[0m\u001b[0mmean\u001b[0m\u001b[1;33m(\u001b[0m\u001b[1;33m)\u001b[0m\u001b[1;33m\u001b[0m\u001b[1;33m\u001b[0m\u001b[0m\n\u001b[0;32m      6\u001b[0m \u001b[1;33m\u001b[0m\u001b[0m\n\u001b[1;32m----> 7\u001b[1;33m \u001b[0mninth_grade_math_scores\u001b[0m \u001b[1;33m=\u001b[0m \u001b[0mninth_graders_scores\u001b[0m\u001b[1;33m[\u001b[0m\u001b[1;34m\"math_score\"\u001b[0m\u001b[1;33m]\u001b[0m\u001b[1;33m\u001b[0m\u001b[1;33m\u001b[0m\u001b[0m\n\u001b[0m\u001b[0;32m      8\u001b[0m \u001b[0mtenth_grader_math_scores\u001b[0m \u001b[1;33m=\u001b[0m \u001b[0mtenth_graders_scores\u001b[0m\u001b[1;33m[\u001b[0m\u001b[1;34m\"math_score\"\u001b[0m\u001b[1;33m]\u001b[0m\u001b[1;33m\u001b[0m\u001b[1;33m\u001b[0m\u001b[0m\n\u001b[0;32m      9\u001b[0m \u001b[0meleventh_grader_math_scores\u001b[0m \u001b[1;33m=\u001b[0m \u001b[0meleventh_graders_scores\u001b[0m\u001b[1;33m.\u001b[0m\u001b[0mmean\u001b[0m\u001b[1;33m(\u001b[0m\u001b[1;33m)\u001b[0m\u001b[1;33m[\u001b[0m\u001b[1;34m\"math_score\"\u001b[0m\u001b[1;33m]\u001b[0m\u001b[1;33m\u001b[0m\u001b[1;33m\u001b[0m\u001b[0m\n",
      "\u001b[1;31mNameError\u001b[0m: name 'ninth_graders_scores' is not defined"
     ]
    }
   ],
   "source": [
    "#Math Scores by Grade & group by school name and take mean of each\n",
    "ninth_graders = school_data_DF[(school_data_DF[\"grade\"] == \"9th\")].groupby('school_name')[\"math_score\"].mean()\n",
    "tenth_graders = school_data_DF[(school_data_DF[\"grade\"] == \"10th\")].groupby('school_name')[\"math_score\"].mean()\n",
    "eleventh_graders = school_data_DF[(school_data_DF[\"grade\"] == \"11th\")].groupby('school_name')[\"math_score\"].mean()\n",
    "twelfth_graders = school_data_DF[(school_data_DF[\"grade\"] == \"12th\")].groupby('school_name')[\"math_score\"].mean()\n",
    "\n",
    "ninth_grade_math_scores = ninth_graders_scores[\"math_score\"]\n",
    "tenth_grader_math_scores = tenth_graders_scores[\"math_score\"]\n",
    "eleventh_grader_math_scores = eleventh_graders_scores.mean()[\"math_score\"]\n",
    "twelfth_grader_math_scores = twelfth_graders_scores[\"math_score\"]\n",
    "\n",
    "\n",
    "math_scores_by_grade = pd.DataFrame({\n",
    "    \"9th\": ninth_math,\n",
    "    \"10th\": tenth_math,\n",
    "    \"11th\": eleventh_math,\n",
    "    \"12th\": twelfth_math\n",
    "})\n",
    "\n",
    "math_scores_by_grade = math_scores_by_grade[['9th', '10th', '11th', '12th']]\n",
    "math_scores_by_grade.index.name = none\n",
    "\n",
    "math_scores_by_grade.style.format ({'9th': '{:.1f}',\n",
    "                                   \"10th\": '{:.1f}',\n",
    "                                   \"11th\": '{:.1f}',\n",
    "                                    \"12th\": \"{:.1f}\"})\n",
    "\n"
   ]
  },
  {
   "cell_type": "code",
   "execution_count": null,
   "id": "3b224ccc",
   "metadata": {},
   "outputs": [],
   "source": [
    "#Reading Score by Grade"
   ]
  },
  {
   "cell_type": "code",
   "execution_count": 78,
   "id": "0788776a",
   "metadata": {},
   "outputs": [],
   "source": [
    "#Scores by School Spending"
   ]
  },
  {
   "cell_type": "code",
   "execution_count": null,
   "id": "5407b808",
   "metadata": {},
   "outputs": [],
   "source": [
    "#scores by school size"
   ]
  },
  {
   "cell_type": "code",
   "execution_count": null,
   "id": "a4018615",
   "metadata": {},
   "outputs": [],
   "source": [
    "#scores by school type"
   ]
  }
 ],
 "metadata": {
  "kernelspec": {
   "display_name": "Python 3 (ipykernel)",
   "language": "python",
   "name": "python3"
  },
  "language_info": {
   "codemirror_mode": {
    "name": "ipython",
    "version": 3
   },
   "file_extension": ".py",
   "mimetype": "text/x-python",
   "name": "python",
   "nbconvert_exporter": "python",
   "pygments_lexer": "ipython3",
   "version": "3.9.13"
  },
  "vscode": {
   "interpreter": {
    "hash": "f08154012ddadd8e950e6e9e035c7a7b32c136e7647e9b7c77e02eb723a8bedb"
   }
  }
 },
 "nbformat": 4,
 "nbformat_minor": 5
}
